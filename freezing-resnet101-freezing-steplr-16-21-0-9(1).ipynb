{
 "metadata": {
  "kernelspec": {
   "language": "python",
   "display_name": "Python 3",
   "name": "python3"
  },
  "language_info": {
   "name": "python",
   "version": "3.10.12",
   "mimetype": "text/x-python",
   "codemirror_mode": {
    "name": "ipython",
    "version": 3
   },
   "pygments_lexer": "ipython3",
   "nbconvert_exporter": "python",
   "file_extension": ".py"
  },
  "kaggle": {
   "accelerator": "gpu",
   "dataSources": [
    {
     "sourceId": 10386109,
     "sourceType": "datasetVersion",
     "datasetId": 6434227
    },
    {
     "sourceId": 10406103,
     "sourceType": "datasetVersion",
     "datasetId": 6448487
    }
   ],
   "dockerImageVersionId": 30823,
   "isInternetEnabled": true,
   "language": "python",
   "sourceType": "notebook",
   "isGpuEnabled": true
  }
 },
 "nbformat_minor": 4,
 "nbformat": 4,
 "cells": [
  {
   "cell_type": "markdown",
   "source": "# chill bro",
   "metadata": {
    "_uuid": "8f2839f25d086af736a60e9eeb907d3b93b6e0e5",
    "_cell_guid": "b1076dfc-b9ad-4769-8c92-a6c4dae69d19"
   }
  },
  {
   "cell_type": "code",
   "source": [
    "import torch\n",
    "import torch.nn as nn\n",
    "import torchvision\n",
    "from torch.optim import lr_scheduler\n",
    "from torchvision import models\n",
    "import torchvision.transforms as transforms\n",
    "from torch.utils.data import DataLoader, Dataset, random_split\n",
    "from PIL import Image, UnidentifiedImageError\n",
    "import os\n",
    "import matplotlib.pyplot as plt\n",
    "from PIL import Image\n",
    "import pandas as pd\n",
    "from collections import Counter"
   ],
   "metadata": {
    "trusted": true,
    "execution": {
     "iopub.status.busy": "2025-01-10T10:05:39.694935Z",
     "iopub.execute_input": "2025-01-10T10:05:39.695285Z",
     "iopub.status.idle": "2025-01-10T10:05:39.699946Z",
     "shell.execute_reply.started": "2025-01-10T10:05:39.695253Z",
     "shell.execute_reply": "2025-01-10T10:05:39.698877Z"
    }
   },
   "outputs": [],
   "execution_count": 14
  },
  {
   "cell_type": "code",
   "source": [
    "# device configuration (if gpu is available then the process will take place in gpu else cpu)\n",
    "device = torch.device(\"cuda\" if torch.cuda.is_available() else \"cpu\")\n",
    "print(torch.cuda)"
   ],
   "metadata": {
    "trusted": true,
    "execution": {
     "iopub.status.busy": "2025-01-10T10:05:39.701108Z",
     "iopub.execute_input": "2025-01-10T10:05:39.701442Z",
     "iopub.status.idle": "2025-01-10T10:05:39.718869Z",
     "shell.execute_reply.started": "2025-01-10T10:05:39.701407Z",
     "shell.execute_reply": "2025-01-10T10:05:39.718173Z"
    }
   },
   "outputs": [
    {
     "name": "stdout",
     "text": "<module 'torch.cuda' from '/usr/local/lib/python3.10/dist-packages/torch/cuda/__init__.py'>\n",
     "output_type": "stream"
    }
   ],
   "execution_count": 15
  },
  {
   "cell_type": "code",
   "source": "# Hyper-parameters\nnum_epochs = 25\nbatch_size = 16\nlearning_rate = 0.001\npath=\"/kaggle/input/vlg-train-data/train_data/\"",
   "metadata": {
    "trusted": true,
    "execution": {
     "iopub.status.busy": "2025-01-10T10:05:39.720632Z",
     "iopub.execute_input": "2025-01-10T10:05:39.720895Z",
     "iopub.status.idle": "2025-01-10T10:05:39.733660Z",
     "shell.execute_reply.started": "2025-01-10T10:05:39.720876Z",
     "shell.execute_reply": "2025-01-10T10:05:39.732735Z"
    }
   },
   "outputs": [],
   "execution_count": 16
  },
  {
   "cell_type": "code",
   "source": [
    "# custom dataset...\n",
    "class CustomDataSet(Dataset):\n",
    "    def __init__(self,path,transform= None):\n",
    "        self.transform = transform\n",
    "        self.image_path_list=[]\n",
    "        self.label_index=[]\n",
    "        for count, entry in enumerate(os.scandir(path)):\n",
    "            if entry.is_dir():\n",
    "                animal_name = entry.path.split('/')[-1]\n",
    "                # animal_name = os.path.basename(entry.path) try this if above doesn't work according to the operating system path type\n",
    "                for im in os.scandir(entry.path):\n",
    "                    if im.is_file():\n",
    "                        im_path=path + animal_name + \"/\" + im.name\n",
    "                        self.image_path_list.append(im_path)\n",
    "                        self.label_index.append(count)\n",
    "    def __getitem__(self, index):\n",
    "         while True:\n",
    "            try:\n",
    "                image = Image.open(self.image_path_list[index]).convert(\"RGB\")\n",
    "                label = self.label_index[index]\n",
    "                if self.transform:\n",
    "                    image = self.transform(image) # image is returned after transformation\n",
    "                return image, label\n",
    "            except (OSError, UnidentifiedImageError, ValueError) as e:  # incase the image can't be opened or unidentified error occures\n",
    "                print(f\"Skipping corrupted image: {self.image_path_list[index]} | Error: {e}\")\n",
    "    def __len__(self):\n",
    "        return len(self.image_path_list)"
   ],
   "metadata": {
    "trusted": true,
    "execution": {
     "iopub.status.busy": "2025-01-10T10:05:39.734862Z",
     "iopub.execute_input": "2025-01-10T10:05:39.735098Z",
     "iopub.status.idle": "2025-01-10T10:05:39.748685Z",
     "shell.execute_reply.started": "2025-01-10T10:05:39.735076Z",
     "shell.execute_reply": "2025-01-10T10:05:39.747878Z"
    }
   },
   "outputs": [],
   "execution_count": 17
  },
  {
   "cell_type": "code",
   "source": [
    "# data augmentation\n",
    "transform = transforms.Compose(\n",
    "    [transforms.RandomResizedCrop(300, scale=(0.7, 1.0)),\n",
    "     transforms.RandomHorizontalFlip(),\n",
    "     transforms.RandomRotation(30),\n",
    "     transforms.ToTensor(),\n",
    "     transforms.Normalize(mean=[0.485, 0.456, 0.406], std=[0.229, 0.224, 0.225])])\n",
    "\n",
    "dataset = CustomDataSet(path=path,transform=transform)\n",
    "\n",
    "train_size=int(0.85*len(dataset))\n",
    "test_size= len(dataset)-train_size\n",
    "\n",
    "train_set, test_set= random_split(dataset, [train_size, test_size])\n",
    "\n",
    "train_loader = DataLoader(dataset, batch_size=batch_size, shuffle=True) # trained with complete dataset\n",
    "test_loader = DataLoader(test_set, batch_size=batch_size, shuffle=False) # 15% data is kept for evaluation"
   ],
   "metadata": {
    "trusted": true,
    "execution": {
     "iopub.status.busy": "2025-01-10T10:05:39.749500Z",
     "iopub.execute_input": "2025-01-10T10:05:39.749748Z",
     "iopub.status.idle": "2025-01-10T10:05:45.509021Z",
     "shell.execute_reply.started": "2025-01-10T10:05:39.749719Z",
     "shell.execute_reply": "2025-01-10T10:05:45.508103Z"
    },
    "scrolled": true
   },
   "outputs": [],
   "execution_count": 18
  },
  {
   "cell_type": "code",
   "source": [
    "# model\n",
    "model = models.resnet101(pretrained=True)\n",
    "num_classes = 50\n",
    "model.fc = torch.nn.Linear(model.fc.in_features, num_classes)\n",
    "model = model.to(device)\n",
    "\n",
    "# first freeze all the layers\n",
    "for param in model.parameters():\n",
    "    param.requires_grad = False\n",
    "\n",
    "# unfreezing the last convolution layer and classifier head layer\n",
    "for name, param in model.named_parameters():\n",
    "    if \"layer4\" in name:\n",
    "        param.requires_grad = True\n",
    "\n",
    "for param in model.fc.parameters():\n",
    "    param.requires_grad = True\n"
   ],
   "metadata": {
    "trusted": true,
    "execution": {
     "iopub.status.busy": "2025-01-10T10:05:45.510091Z",
     "iopub.execute_input": "2025-01-10T10:05:45.510443Z",
     "iopub.status.idle": "2025-01-10T10:05:46.394946Z",
     "shell.execute_reply.started": "2025-01-10T10:05:45.510413Z",
     "shell.execute_reply": "2025-01-10T10:05:46.393992Z"
    }
   },
   "outputs": [
    {
     "name": "stderr",
     "text": "/usr/local/lib/python3.10/dist-packages/torchvision/models/_utils.py:208: UserWarning: The parameter 'pretrained' is deprecated since 0.13 and may be removed in the future, please use 'weights' instead.\n  warnings.warn(\n/usr/local/lib/python3.10/dist-packages/torchvision/models/_utils.py:223: UserWarning: Arguments other than a weight enum or `None` for 'weights' are deprecated since 0.13 and may be removed in the future. The current behavior is equivalent to passing `weights=ResNet101_Weights.IMAGENET1K_V1`. You can also use `weights=ResNet101_Weights.DEFAULT` to get the most up-to-date weights.\n  warnings.warn(msg)\n",
     "output_type": "stream"
    }
   ],
   "execution_count": 19
  },
  {
   "cell_type": "code",
   "source": [
    "# criterion and optimizer defining\n",
    "criterion = nn.CrossEntropyLoss()\n",
    "optimizer = torch.optim.SGD(filter(lambda p: p.requires_grad, model.parameters()), lr=learning_rate) # optimizes the layer which are not frozen"
   ],
   "metadata": {
    "trusted": true,
    "execution": {
     "iopub.status.busy": "2025-01-10T10:05:46.395888Z",
     "iopub.execute_input": "2025-01-10T10:05:46.396237Z",
     "iopub.status.idle": "2025-01-10T10:05:46.401352Z",
     "shell.execute_reply.started": "2025-01-10T10:05:46.396205Z",
     "shell.execute_reply": "2025-01-10T10:05:46.400623Z"
    }
   },
   "outputs": [],
   "execution_count": 20
  },
  {
   "cell_type": "code",
   "source": [
    "# lr-scheduler (Multistep lr is used here)\n",
    "scheduler = lr_scheduler.MultiStepLR(optimizer, milestones=[16,21], gamma=0.9)"
   ],
   "metadata": {
    "trusted": true,
    "execution": {
     "iopub.status.busy": "2025-01-10T10:05:46.403036Z",
     "iopub.execute_input": "2025-01-10T10:05:46.403254Z",
     "iopub.status.idle": "2025-01-10T10:05:46.415479Z",
     "shell.execute_reply.started": "2025-01-10T10:05:46.403236Z",
     "shell.execute_reply": "2025-01-10T10:05:46.414626Z"
    }
   },
   "outputs": [],
   "execution_count": 21
  },
  {
   "cell_type": "code",
   "source": [
    "# training loop...\n",
    "loss_values = []\n",
    "epoch_list=[]\n",
    "n_total_steps = len(train_loader)\n",
    "for epoch in range(num_epochs):\n",
    "    for i, (images, labels) in enumerate(train_loader):\n",
    "        images = images.to(device)\n",
    "        labels = labels.to(device)\n",
    "\n",
    "        #forward pass\n",
    "        outputs = model(images)\n",
    "        loss = criterion(outputs, labels)\n",
    "\n",
    "        #backward pass\n",
    "        optimizer.zero_grad()\n",
    "        loss.backward()\n",
    "        optimizer.step()\n",
    "\n",
    "        print(\".\",end=\"\") # used this to check the status of completion (unnecessary)\n",
    "        if (i + 1) % 100 == 0: # printing the loss details every 100 epoch\n",
    "            print()\n",
    "            print(f\"epoch [{epoch + 1}/{num_epochs}], step [{i+1}/{n_total_steps}], loss: {loss.item():.4f}\")\n",
    "            loss_values.append(loss.item())\n",
    "\n",
    "    scheduler.step()\n",
    "\n",
    "print(\"finished training\")\n",
    "plt.plot(loss_values, label='Training Loss')\n",
    "plt.title('Training Loss Curve')\n",
    "plt.legend()\n",
    "plt.show()\n",
    "# plotted a loss graph every 100 epoch to check the behaviour of the code"
   ],
   "metadata": {
    "trusted": true,
    "scrolled": true,
    "execution": {
     "iopub.status.busy": "2025-01-10T10:05:46.416394Z",
     "iopub.execute_input": "2025-01-10T10:05:46.416582Z",
     "iopub.status.idle": "2025-01-10T10:41:18.517502Z",
     "shell.execute_reply.started": "2025-01-10T10:05:46.416566Z",
     "shell.execute_reply": "2025-01-10T10:41:18.516680Z"
    }
   },
   "outputs": [
    {
     "name": "stdout",
     "text": "....................................................................................................\nepoch [1/25], step [100/364], loss: 3.5743\n....................................................................................................\nepoch [1/25], step [200/364], loss: 3.3715\n....................................................................................................\nepoch [1/25], step [300/364], loss: 3.0238\n....................................................................................................................................................................\nepoch [2/25], step [100/364], loss: 2.5720\n....................................................................................................\nepoch [2/25], step [200/364], loss: 2.9515\n....................................................................................................\nepoch [2/25], step [300/364], loss: 1.9382\n....................................................................................................................................................................\nepoch [3/25], step [100/364], loss: 1.6133\n....................................................................................................\nepoch [3/25], step [200/364], loss: 1.8887\n....................................................................................................\nepoch [3/25], step [300/364], loss: 1.9352\n....................................................................................................................................................................\nepoch [4/25], step [100/364], loss: 1.6712\n....................................................................................................\nepoch [4/25], step [200/364], loss: 1.9562\n....................................................................................................\nepoch [4/25], step [300/364], loss: 1.8654\n....................................................................................................................................................................\nepoch [5/25], step [100/364], loss: 1.5681\n....................................................................................................\nepoch [5/25], step [200/364], loss: 1.2110\n....................................................................................................\nepoch [5/25], step [300/364], loss: 1.2586\n....................................................................................................................................................................\nepoch [6/25], step [100/364], loss: 0.7261\n....................................................................................................\nepoch [6/25], step [200/364], loss: 1.2584\n....................................................................................................\nepoch [6/25], step [300/364], loss: 1.3601\n....................................................................................................................................................................\nepoch [7/25], step [100/364], loss: 1.0855\n....................................................................................................\nepoch [7/25], step [200/364], loss: 1.0992\n....................................................................................................\nepoch [7/25], step [300/364], loss: 0.8269\n....................................................................................................................................................................\nepoch [8/25], step [100/364], loss: 0.9425\n....................................................................................................\nepoch [8/25], step [200/364], loss: 0.5171\n....................................................................................................\nepoch [8/25], step [300/364], loss: 0.8998\n....................................................................................................................................................................\nepoch [9/25], step [100/364], loss: 0.9844\n....................................................................................................\nepoch [9/25], step [200/364], loss: 0.8056\n....................................................................................................\nepoch [9/25], step [300/364], loss: 0.8010\n....................................................................................................................................................................\nepoch [10/25], step [100/364], loss: 0.6636\n....................................................................................................\nepoch [10/25], step [200/364], loss: 0.5923\n....................................................................................................\nepoch [10/25], step [300/364], loss: 1.1929\n....................................................................................................................................................................\nepoch [11/25], step [100/364], loss: 0.5364\n....................................................................................................\nepoch [11/25], step [200/364], loss: 0.8814\n....................................................................................................\nepoch [11/25], step [300/364], loss: 0.6853\n....................................................................................................................................................................\nepoch [12/25], step [100/364], loss: 0.8649\n....................................................................................................\nepoch [12/25], step [200/364], loss: 0.5623\n....................................................................................................\nepoch [12/25], step [300/364], loss: 1.0299\n....................................................................................................................................................................\nepoch [13/25], step [100/364], loss: 0.8909\n....................................................................................................\nepoch [13/25], step [200/364], loss: 0.5962\n....................................................................................................\nepoch [13/25], step [300/364], loss: 0.4455\n....................................................................................................................................................................\nepoch [14/25], step [100/364], loss: 0.4607\n....................................................................................................\nepoch [14/25], step [200/364], loss: 0.2693\n....................................................................................................\nepoch [14/25], step [300/364], loss: 0.8646\n....................................................................................................................................................................\nepoch [15/25], step [100/364], loss: 0.5947\n....................................................................................................\nepoch [15/25], step [200/364], loss: 0.2715\n....................................................................................................\nepoch [15/25], step [300/364], loss: 0.3152\n....................................................................................................................................................................\nepoch [16/25], step [100/364], loss: 0.3744\n....................................................................................................\nepoch [16/25], step [200/364], loss: 0.4426\n....................................................................................................\nepoch [16/25], step [300/364], loss: 0.4862\n....................................................................................................................................................................\nepoch [17/25], step [100/364], loss: 0.3173\n....................................................................................................\nepoch [17/25], step [200/364], loss: 0.5916\n....................................................................................................\nepoch [17/25], step [300/364], loss: 0.3351\n....................................................................................................................................................................\nepoch [18/25], step [100/364], loss: 0.5419\n....................................................................................................\nepoch [18/25], step [200/364], loss: 0.6670\n....................................................................................................\nepoch [18/25], step [300/364], loss: 0.6149\n....................................................................................................................................................................\nepoch [19/25], step [100/364], loss: 0.4781\n....................................................................................................\nepoch [19/25], step [200/364], loss: 0.4034\n....................................................................................................\nepoch [19/25], step [300/364], loss: 0.3226\n....................................................................................................................................................................\nepoch [20/25], step [100/364], loss: 0.2642\n....................................................................................................\nepoch [20/25], step [200/364], loss: 0.5586\n....................................................................................................\nepoch [20/25], step [300/364], loss: 0.6507\n....................................................................................................................................................................\nepoch [21/25], step [100/364], loss: 0.2593\n....................................................................................................\nepoch [21/25], step [200/364], loss: 0.2821\n....................................................................................................\nepoch [21/25], step [300/364], loss: 0.3221\n....................................................................................................................................................................\nepoch [22/25], step [100/364], loss: 0.3419\n....................................................................................................\nepoch [22/25], step [200/364], loss: 0.2825\n....................................................................................................\nepoch [22/25], step [300/364], loss: 0.3990\n....................................................................................................................................................................\nepoch [23/25], step [100/364], loss: 0.5641\n....................................................................................................\nepoch [23/25], step [200/364], loss: 0.1876\n....................................................................................................\nepoch [23/25], step [300/364], loss: 0.2111\n....................................................................................................................................................................\nepoch [24/25], step [100/364], loss: 0.4140\n....................................................................................................\nepoch [24/25], step [200/364], loss: 0.4286\n....................................................................................................\nepoch [24/25], step [300/364], loss: 0.5466\n....................................................................................................................................................................\nepoch [25/25], step [100/364], loss: 0.2044\n....................................................................................................\nepoch [25/25], step [200/364], loss: 0.3117\n....................................................................................................\nepoch [25/25], step [300/364], loss: 0.1580\n................................................................finished training\n",
     "output_type": "stream"
    },
    {
     "output_type": "display_data",
     "data": {
      "text/plain": "<Figure size 640x480 with 1 Axes>",
      "image/png": "[encoded data removed]"
     },
     "metadata": {}
    }
   ],
   "execution_count": 22
  },
  {
   "cell_type": "code",
   "source": [
    "# evaluation\n",
    "with torch.no_grad():\n",
    "    n_correct = 0\n",
    "    n_samples = 0\n",
    "    for images, labels in test_loader:\n",
    "        images = images.to(device)\n",
    "        labels = labels.to(device)\n",
    "        outputs = model(images)\n",
    "\n",
    "        _, predicted= torch.max(outputs, 1)\n",
    "        n_samples += labels.size(0)\n",
    "        n_correct += torch.sum(predicted == labels).item()\n",
    "        print(\".\", end=\"\")\n",
    "\n",
    "    acc = 100.0 * n_correct/n_samples    # evaluation based on 15% data (seen)\n",
    "    print()\n",
    "    print(f\"accuracy of the model: {acc} %\")"
   ],
   "metadata": {
    "trusted": true,
    "execution": {
     "iopub.status.busy": "2025-01-10T10:46:29.283107Z",
     "iopub.execute_input": "2025-01-10T10:46:29.283382Z",
     "iopub.status.idle": "2025-01-10T10:46:29.382199Z",
     "shell.execute_reply.started": "2025-01-10T10:46:29.283360Z",
     "shell.execute_reply": "2025-01-10T10:46:29.381031Z"
    }
   },
   "outputs": [
    {
     "traceback": [
      "\u001B[0;31m---------------------------------------------------------------------------\u001B[0m",
      "\u001B[0;31mAttributeError\u001B[0m                            Traceback (most recent call last)",
      "\u001B[0;32m<ipython-input-27-c594241a91bb>\u001B[0m in \u001B[0;36m<cell line: 1>\u001B[0;34m()\u001B[0m\n\u001B[1;32m      4\u001B[0m     \u001B[0;32mfor\u001B[0m \u001B[0mimages\u001B[0m\u001B[0;34m,\u001B[0m \u001B[0mlabels\u001B[0m \u001B[0;32min\u001B[0m \u001B[0mtest_loader\u001B[0m\u001B[0;34m:\u001B[0m\u001B[0;34m\u001B[0m\u001B[0;34m\u001B[0m\u001B[0m\n\u001B[1;32m      5\u001B[0m         \u001B[0mimages\u001B[0m \u001B[0;34m=\u001B[0m \u001B[0mimages\u001B[0m\u001B[0;34m.\u001B[0m\u001B[0mto\u001B[0m\u001B[0;34m(\u001B[0m\u001B[0mdevice\u001B[0m\u001B[0;34m)\u001B[0m\u001B[0;34m\u001B[0m\u001B[0;34m\u001B[0m\u001B[0m\n\u001B[0;32m----> 6\u001B[0;31m         \u001B[0mlabels\u001B[0m \u001B[0;34m=\u001B[0m \u001B[0mlabels\u001B[0m\u001B[0;34m.\u001B[0m\u001B[0mto\u001B[0m\u001B[0;34m(\u001B[0m\u001B[0mdevice\u001B[0m\u001B[0;34m)\u001B[0m\u001B[0;34m\u001B[0m\u001B[0;34m\u001B[0m\u001B[0m\n\u001B[0m\u001B[1;32m      7\u001B[0m         \u001B[0moutputs\u001B[0m \u001B[0;34m=\u001B[0m \u001B[0mmodel\u001B[0m\u001B[0;34m(\u001B[0m\u001B[0mimages\u001B[0m\u001B[0;34m)\u001B[0m\u001B[0;34m\u001B[0m\u001B[0;34m\u001B[0m\u001B[0m\n\u001B[1;32m      8\u001B[0m \u001B[0;34m\u001B[0m\u001B[0m\n",
      "\u001B[0;31mAttributeError\u001B[0m: 'tuple' object has no attribute 'to'"
     ],
     "ename": "AttributeError",
     "evalue": "'tuple' object has no attribute 'to'",
     "output_type": "error"
    }
   ],
   "execution_count": 27
  },
  {
   "cell_type": "code",
   "source": [
    "class_name=[] #class names are listed\n",
    "for entry in os.scandir(path):\n",
    "            if entry.is_dir():\n",
    "                animal_name = entry.path.split('/')[-1]\n",
    "                class_name.append(animal_name)"
   ],
   "metadata": {
    "trusted": true,
    "execution": {
     "iopub.status.busy": "2025-01-10T10:41:33.720650Z",
     "iopub.execute_input": "2025-01-10T10:41:33.720852Z",
     "iopub.status.idle": "2025-01-10T10:41:33.724865Z",
     "shell.execute_reply.started": "2025-01-10T10:41:33.720835Z",
     "shell.execute_reply": "2025-01-10T10:41:33.724096Z"
    }
   },
   "outputs": [],
   "execution_count": 25
  },
  {
   "cell_type": "code",
   "source": [
    "# test prediction\n",
    "test_path = \"/kaggle/input/vlg-test/test/\"\n",
    "n_votes = 7  # an image is passed through the model several times and the majority answer is considered\n",
    "\n",
    "# defining transformations (each time different transformation will take place as the image is passed through the model multiple time) (i might have messed up this thing)\n",
    "transform = transforms.Compose(\n",
    "    [transforms.RandomResizedCrop(300, scale=(0.7, 1.0)),\n",
    "     transforms.RandomHorizontalFlip(),\n",
    "     transforms.RandomRotation(30),\n",
    "     transforms.ToTensor(),\n",
    "     transforms.Normalize(mean=[0.485, 0.456, 0.406], std=[0.229, 0.224, 0.225])])\n",
    "\n",
    "\n",
    "# custom dataset for the test data...\n",
    "class TestDataset(Dataset):\n",
    "    def __init__(self, test_path, transform=None):\n",
    "        self.test_path = test_path\n",
    "        self.transform = transform\n",
    "        self.image_paths = [entry.path for entry in os.scandir(test_path) if entry.is_file()]\n",
    "        self.image_names = [entry.name for entry in os.scandir(test_path) if entry.is_file()]\n",
    "\n",
    "    def __len__(self):\n",
    "        return len(self.image_paths)\n",
    "\n",
    "    def __getitem__(self, index):\n",
    "        image_path = self.image_paths[index]\n",
    "        image = Image.open(image_path).convert(\"RGB\")\n",
    "        if self.transform:\n",
    "            image = self.transform(image)\n",
    "        return image, self.image_names[index]\n",
    "\n",
    "# initialize the test dataset and dataloader\n",
    "test_dataset = TestDataset(test_path=test_path, transform=transform)\n",
    "test_loader = DataLoader(test_dataset, batch_size=1, shuffle=False)  # Batch size = 1 for voting\n",
    "\n",
    "# store results\n",
    "results = []\n",
    "columns = ['image_id', 'class']\n",
    "\n",
    "# prediction with voting mechanism\n",
    "model.eval()  # Set model to evaluation mode\n",
    "with torch.no_grad():\n",
    "    for images, image_ids in test_loader:\n",
    "        votes = []  # Store predictions for voting\n",
    "        images = images.to(device)\n",
    "        # voting mechanism\n",
    "        for _ in range(n_votes):\n",
    "            outputs = model(images)\n",
    "            _, predicted = torch.max(outputs, 1)\n",
    "            votes.append(predicted.item())\n",
    "\n",
    "        # majority outcome extraction\n",
    "        final_prediction = Counter(votes).most_common(1)[0][0]\n",
    "        class_name_pred = class_name[final_prediction]  # class name derived with the index\n",
    "\n",
    "        results.append({'image_id': image_ids[0], 'class': class_name_pred})\n",
    "        print(\".\",end=\"\")\n",
    "\n",
    "# dataframe creation and saving as csv\n",
    "df = pd.DataFrame(results, columns=columns)\n",
    "csv_file_path = '/kaggle/working/test_prediction.csv'\n",
    "df.to_csv(csv_file_path, index=False)\n",
    "print(\"CSV created at:\", csv_file_path)\n"
   ],
   "metadata": {
    "trusted": true,
    "execution": {
     "iopub.status.busy": "2025-01-10T10:41:33.725479Z",
     "iopub.execute_input": "2025-01-10T10:41:33.725700Z",
     "iopub.status.idle": "2025-01-10T10:46:29.281690Z",
     "shell.execute_reply.started": "2025-01-10T10:41:33.725682Z",
     "shell.execute_reply": "2025-01-10T10:46:29.280918Z"
    },
    "scrolled": true
   },
   "outputs": [
    {
     "name": "stdout",
     "text": "........................................................................................................................................................................................................................................................................................................................................................................................................................................................................................................................................................................................................................................................................................................................................................................................................................................................................................................................................................................................................................................................................................................................................................................................................................................................................................................................................................................................................................................................................................................................................................................................................................................................................................................................................................................................................................................................................................................................................................................................................................................................................................................................................................................................................................................................................................................................................................................................................................................................................................................................................................................................................................................................................................................................................................................................................................................................................................................................................................................................................................................................................................................................CSV created at: /kaggle/working/output.csv\n",
     "output_type": "stream"
    }
   ],
   "execution_count": 26
  },
  {
   "cell_type": "code",
   "source": "",
   "metadata": {
    "trusted": true
   },
   "outputs": [],
   "execution_count": null
  }
 ]
}
